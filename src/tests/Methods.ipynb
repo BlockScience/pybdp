{
 "cells": [
  {
   "cell_type": "code",
   "execution_count": 1,
   "metadata": {},
   "outputs": [],
   "source": [
    "import sys\n",
    "\n",
    "sys.path.append('..')\n",
    "\n",
    "from bdp_lib import load_project\n",
    "\n",
    "\n",
    "\n",
    "project_json = {\"Toolbox\": {\"Spaces\": [{\"ID\": \"S1\", \"Name\": \"A\", \"Description\": \"Space 1\"},\n",
    "                                       {\"ID\": \"S2\", \"Name\": \"B\"},\n",
    "                                       {\"ID\": \"S3\", \"Name\": \"C\", \"Description\": \"Space 3\"},\n",
    "                                       {\"ID\": \"S4\", \"Name\": \"D\"},\n",
    "                                       {\"ID\": \"S5\", \"Name\": \"E\", \"Description\": \"Space 5\"}],\n",
    "                            \"Blocks\": [{\"ID\": \"B1\", \"Name\": \"Block 1\", \"Description\": \"Block 1\", \"Domain\": [\"S1\", \"S5\"], \"Codomain\": [\"S5\"]},\n",
    "                                       {\"ID\": \"B2\", \"Name\": \"Block 2\", \"Domain\": [\"S5\"], \"Codomain\": [\"S3\"]},\n",
    "                                       {\"ID\": \"B3\", \"Name\": \"Block 3\", \"Domain\": [\"S5\", \"S2\"], \"Codomain\": [\"S4\"]}],},\n",
    "                \"Workbench\": {\"Processors\": [{\"ID\": \"P1\", \"Name\": \"Processor 1\", \"Description\": \"Processor 1\",\n",
    "                                              \"Parent\": \"B1\", \"Ports\": [\"S1\", \"S5\"], \"Terminals\": [\"S5\"]},\n",
    "                                              {\"ID\": \"P2\", \"Name\": \"Processor 2\", \n",
    "                                              \"Parent\": \"B2\", \"Ports\": [\"S5\"], \"Terminals\": [\"S3\"]},\n",
    "                                              {\"ID\": \"P3\", \"Name\": \"Processor 3\", \n",
    "                                              \"Parent\": \"B3\", \"Ports\": [\"S5\", \"S2\"], \"Terminals\": [\"S4\"]}],\n",
    "                              \"Wires\": [{\"ID\": \"W1\", \"Parent\": \"S5\", \"Source\": {\"Processor\": \"P1\", \"Index\":0}, \"Target\": {\"Processor\": \"P2\", \"Index\":0}},\n",
    "                              {\"ID\": \"W2\", \"Parent\": \"S5\", \"Source\": {\"Processor\": \"P1\", \"Index\":0}, \"Target\": {\"Processor\": \"P3\", \"Index\":0}},\n",
    "                              {\"ID\": \"W3\", \"Parent\": \"S5\", \"Source\": {\"Processor\": \"P1\", \"Index\":0}, \"Target\": {\"Processor\": \"P1\", \"Index\":1}}],\n",
    "                              \"Systems\": [{\"ID\": \"Sys1\", \"Name\": \"System 1\", \"Description\": \"My System\",\n",
    "                                           \"Processors\": [\"P1\", \"P2\", \"P3\"],\n",
    "                                           \"Wires\": [\"W1\", \"W2\", \"W3\"]}],}}\n",
    "\n",
    "\n",
    "project = load_project(project_json)"
   ]
  },
  {
   "cell_type": "code",
   "execution_count": 2,
   "metadata": {},
   "outputs": [
    {
     "data": {
      "text/plain": [
       "< Block ID: B1 Name: Block 1 ['A', 'E']->['E']>"
      ]
     },
     "execution_count": 2,
     "metadata": {},
     "output_type": "execute_result"
    }
   ],
   "source": [
    "project.processors[0].get_shape()"
   ]
  },
  {
   "cell_type": "code",
   "execution_count": 3,
   "metadata": {},
   "outputs": [
    {
     "data": {
      "text/plain": [
       "[[< Processor ID: P1 Name: Processor 1 ['A', 'E']->['E']>,\n",
       "  0,\n",
       "  < Space ID: S1 Name: A >],\n",
       " [< Processor ID: P3 Name: Processor 3 ['E', 'B']->['D']>,\n",
       "  1,\n",
       "  < Space ID: S2 Name: B >]]"
      ]
     },
     "execution_count": 3,
     "metadata": {},
     "output_type": "execute_result"
    }
   ],
   "source": [
    "project.systems[0].get_open_ports()"
   ]
  },
  {
   "cell_type": "code",
   "execution_count": 4,
   "metadata": {},
   "outputs": [
    {
     "data": {
      "text/plain": [
       "[[< Processor ID: P1 Name: Processor 1 ['A', 'E']->['E']>,\n",
       "  0,\n",
       "  < Space ID: S5 Name: E >],\n",
       " [< Processor ID: P2 Name: Processor 2 ['E']->['C']>,\n",
       "  0,\n",
       "  < Space ID: S3 Name: C >],\n",
       " [< Processor ID: P3 Name: Processor 3 ['E', 'B']->['D']>,\n",
       "  0,\n",
       "  < Space ID: S4 Name: D >]]"
      ]
     },
     "execution_count": 4,
     "metadata": {},
     "output_type": "execute_result"
    }
   ],
   "source": [
    "project.systems[0].get_available_terminals(open_only=False)"
   ]
  },
  {
   "cell_type": "code",
   "execution_count": 5,
   "metadata": {},
   "outputs": [
    {
     "data": {
      "text/plain": [
       "[[< Processor ID: P2 Name: Processor 2 ['E']->['C']>,\n",
       "  0,\n",
       "  < Space ID: S3 Name: C >],\n",
       " [< Processor ID: P3 Name: Processor 3 ['E', 'B']->['D']>,\n",
       "  0,\n",
       "  < Space ID: S4 Name: D >]]"
      ]
     },
     "execution_count": 5,
     "metadata": {},
     "output_type": "execute_result"
    }
   ],
   "source": [
    "project.systems[0].get_available_terminals(open_only=True)"
   ]
  },
  {
   "cell_type": "code",
   "execution_count": null,
   "metadata": {},
   "outputs": [],
   "source": []
  }
 ],
 "metadata": {
  "kernelspec": {
   "display_name": "MSML",
   "language": "python",
   "name": "python3"
  },
  "language_info": {
   "codemirror_mode": {
    "name": "ipython",
    "version": 3
   },
   "file_extension": ".py",
   "mimetype": "text/x-python",
   "name": "python",
   "nbconvert_exporter": "python",
   "pygments_lexer": "ipython3",
   "version": "3.9.19"
  }
 },
 "nbformat": 4,
 "nbformat_minor": 2
}
