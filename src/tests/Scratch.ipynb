{
 "cells": [
  {
   "cell_type": "code",
   "execution_count": 1,
   "metadata": {},
   "outputs": [],
   "source": [
    "import sys\n",
    "\n",
    "sys.path.append('..')\n",
    "\n",
    "from bdp_lib import load_project, schema\n",
    "from jsonschema import validate\n",
    "\n",
    "\n",
    "project_json = {}\n",
    "\n",
    "\n",
    "project = load_project(project_json)"
   ]
  },
  {
   "cell_type": "code",
   "execution_count": 2,
   "metadata": {},
   "outputs": [
    {
     "data": {
      "text/plain": [
       "{'$id': 'https://github.com/BlockScience/bdp-lib/tree/main/src/bdp_lib/schemas/bdp.schema.json',\n",
       " '$schema': 'http://json-schema.org/draft-07/schema#',\n",
       " 'title': 'Project',\n",
       " 'type': 'object',\n",
       " 'additionalProperties': False,\n",
       " 'description': 'A project within the block diagram protocol. The toolbox contains the abstract representations and the workbench contains the implementations.',\n",
       " 'properties': {'Toolbox': {'type': 'object',\n",
       "   'description': 'A toolbox of abstract blocks and spaces.',\n",
       "   'title': 'Toolbox',\n",
       "   '$ref': './toolbox.schema.json'},\n",
       "  'Workbench': {'type': 'object',\n",
       "   'description': 'A workbench which contains instances of processors, wires and systems.',\n",
       "   'title': 'Workbench',\n",
       "   '$ref': './workbench.schema.json'}},\n",
       " 'required': ['Toolbox', 'Workbench']}"
      ]
     },
     "execution_count": 2,
     "metadata": {},
     "output_type": "execute_result"
    }
   ],
   "source": [
    "schema"
   ]
  },
  {
   "cell_type": "code",
   "execution_count": null,
   "metadata": {},
   "outputs": [],
   "source": []
  }
 ],
 "metadata": {
  "kernelspec": {
   "display_name": "MSML",
   "language": "python",
   "name": "python3"
  },
  "language_info": {
   "codemirror_mode": {
    "name": "ipython",
    "version": 3
   },
   "file_extension": ".py",
   "mimetype": "text/x-python",
   "name": "python",
   "nbconvert_exporter": "python",
   "pygments_lexer": "ipython3",
   "version": "3.9.19"
  }
 },
 "nbformat": 4,
 "nbformat_minor": 2
}
