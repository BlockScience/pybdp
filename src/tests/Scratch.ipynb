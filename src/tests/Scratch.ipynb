{
 "cells": [
  {
   "cell_type": "code",
   "execution_count": 1,
   "metadata": {},
   "outputs": [],
   "source": [
    "import sys\n",
    "\n",
    "sys.path.append('..')\n",
    "\n",
    "from bdp_lib import load_project, schema\n",
    "\n",
    "\n",
    "\n",
    "project_json = {\"Toolbox\": {\"Spaces\": [{\"ID\": \"S1\", \"Name\": \"A\", \"Description\": \"Space 1\"},\n",
    "                                       {\"ID\": \"S2\", \"Name\": \"B\"},\n",
    "                                       {\"ID\": \"S3\", \"Name\": \"C\", \"Description\": \"Space 3\"},\n",
    "                                       {\"ID\": \"S4\", \"Name\": \"D\"},\n",
    "                                       {\"ID\": \"S5\", \"Name\": \"E\", \"Description\": \"Space 5\"}],\n",
    "                            \"Blocks\": [{\"ID\": \"B1\", \"Name\": \"Block 1\", \"Description\": \"Block 1\", \"Domain\": [\"S1\", \"S5\"], \"Codomain\": [\"S5\"]},\n",
    "                                       {\"ID\": \"B2\", \"Name\": \"Block 2\", \"Domain\": [\"S5\"], \"Codomain\": [\"S3\"]},\n",
    "                                       {\"ID\": \"B3\", \"Name\": \"Block 3\", \"Domain\": [\"S5\", \"S2\"], \"Codomain\": [\"S4\"]}],},\n",
    "                \"Workbench\": {\"Processors\": [{\"ID\": \"P1\", \"Name\": \"Processor 1\", \"Description\": \"Processor 1\",\n",
    "                                              \"Parent\": \"B1\", \"Ports\": [\"S1\", \"S5\"], \"Terminals\": [\"S5\"]},\n",
    "                                              {\"ID\": \"P2\", \"Name\": \"Processor 2\", \n",
    "                                              \"Parent\": \"B2\", \"Ports\": [\"S5\"], \"Terminals\": [\"S3\"]},\n",
    "                                              {\"ID\": \"P3\", \"Name\": \"Processor 3\", \n",
    "                                              \"Parent\": \"B3\", \"Ports\": [\"S5\", \"S2\"], \"Terminals\": [\"S4\"]}],\n",
    "                              \"Wires\": [{\"ID\": \"W1\", \"Parent\": \"S5\", \"Source\": {\"Processor\": \"P1\", \"Index\":0}, \"Target\": {\"Processor\": \"P2\", \"Index\":0}},\n",
    "                              {\"ID\": \"W2\", \"Parent\": \"S5\", \"Source\": {\"Processor\": \"P1\", \"Index\":0}, \"Target\": {\"Processor\": \"P3\", \"Index\":0}},\n",
    "                              {\"ID\": \"W3\", \"Parent\": \"S5\", \"Source\": {\"Processor\": \"P1\", \"Index\":0}, \"Target\": {\"Processor\": \"P1\", \"Index\":1}}],\n",
    "                              \"Systems\": [{\"ID\": \"Sys1\", \"Name\": \"System 1\", \"Description\": \"My System\",\n",
    "                                           \"Processors\": [\"P1\", \"P2\", \"P3\"],\n",
    "                                           \"Wires\": [\"W1\", \"W2\", \"W3\"]}],}}\n",
    "\n",
    "\n",
    "project = load_project(project_json)"
   ]
  },
  {
   "cell_type": "code",
   "execution_count": 2,
   "metadata": {},
   "outputs": [
    {
     "ename": "AttributeError",
     "evalue": "'System' object has no attribute 'get_open_ports'",
     "output_type": "error",
     "traceback": [
      "\u001b[0;31m---------------------------------------------------------------------------\u001b[0m",
      "\u001b[0;31mAttributeError\u001b[0m                            Traceback (most recent call last)",
      "Cell \u001b[0;32mIn[2], line 1\u001b[0m\n\u001b[0;32m----> 1\u001b[0m \u001b[43mproject\u001b[49m\u001b[38;5;241;43m.\u001b[39;49m\u001b[43msystems\u001b[49m\u001b[43m[\u001b[49m\u001b[38;5;241;43m0\u001b[39;49m\u001b[43m]\u001b[49m\u001b[38;5;241;43m.\u001b[39;49m\u001b[43mmake_processor_lazy\u001b[49m\u001b[43m(\u001b[49m\u001b[43m)\u001b[49m\n",
      "File \u001b[0;32m~/Dropbox/BlockScience/bdp-python-client/src/tests/../bdp_lib/system.py:91\u001b[0m, in \u001b[0;36mSystem.make_processor_lazy\u001b[0;34m(self)\u001b[0m\n\u001b[1;32m     90\u001b[0m \u001b[38;5;28;01mdef\u001b[39;00m \u001b[38;5;21mmake_processor_lazy\u001b[39m(\u001b[38;5;28mself\u001b[39m):\n\u001b[0;32m---> 91\u001b[0m     open_ports \u001b[38;5;241m=\u001b[39m \u001b[38;5;28;43mself\u001b[39;49m\u001b[38;5;241;43m.\u001b[39;49m\u001b[43mget_open_ports\u001b[49m()\n\u001b[1;32m     92\u001b[0m     open_terminals \u001b[38;5;241m=\u001b[39m \u001b[38;5;28mself\u001b[39m\u001b[38;5;241m.\u001b[39mget_available_terminals(open_only\u001b[38;5;241m=\u001b[39m\u001b[38;5;28;01mTrue\u001b[39;00m)\n\u001b[1;32m     93\u001b[0m     \u001b[38;5;28mprint\u001b[39m(open_ports, open_terminals)\n",
      "\u001b[0;31mAttributeError\u001b[0m: 'System' object has no attribute 'get_open_ports'"
     ]
    }
   ],
   "source": [
    "project.systems[0].make_processor_lazy()"
   ]
  },
  {
   "cell_type": "code",
   "execution_count": null,
   "metadata": {},
   "outputs": [],
   "source": [
    "from copy import deepcopy\n",
    "project2_json = deepcopy(project_json)"
   ]
  },
  {
   "cell_type": "code",
   "execution_count": null,
   "metadata": {},
   "outputs": [],
   "source": []
  },
  {
   "cell_type": "code",
   "execution_count": null,
   "metadata": {},
   "outputs": [
    {
     "data": {
      "text/plain": [
       "< Project\n",
       "Toolbox:\n",
       "\n",
       "< Toolbox\n",
       "Blocks: ['Block 1', 'Block 2', 'Block 3']\n",
       "Spaces: ['A', 'B', 'C', 'D', 'E'] >\n",
       "\n",
       "Workbench:\n",
       "\n",
       "<Workbench\n",
       "Processors: ['Processor 1', 'Processor 2', 'Processor 3']\n",
       "Wires: ['W1', 'W2', 'W3']\n",
       "Systems: ['System 1'] > >"
      ]
     },
     "execution_count": 12,
     "metadata": {},
     "output_type": "execute_result"
    }
   ],
   "source": [
    "project"
   ]
  },
  {
   "cell_type": "code",
   "execution_count": null,
   "metadata": {},
   "outputs": [
    {
     "data": {
      "text/plain": [
       "< Toolbox\n",
       "Blocks: ['Block 1', 'Block 2', 'Block 3']\n",
       "Spaces: ['A', 'B', 'C', 'D', 'E'] >"
      ]
     },
     "execution_count": 13,
     "metadata": {},
     "output_type": "execute_result"
    }
   ],
   "source": [
    "project.toolbox"
   ]
  },
  {
   "cell_type": "code",
   "execution_count": null,
   "metadata": {},
   "outputs": [
    {
     "data": {
      "text/plain": [
       "<Workbench\n",
       "Processors: ['Processor 1', 'Processor 2', 'Processor 3']\n",
       "Wires: ['W1', 'W2', 'W3']\n",
       "Systems: ['System 1'] >"
      ]
     },
     "execution_count": 14,
     "metadata": {},
     "output_type": "execute_result"
    }
   ],
   "source": [
    "project.workbench"
   ]
  },
  {
   "cell_type": "code",
   "execution_count": null,
   "metadata": {},
   "outputs": [
    {
     "data": {
      "text/plain": [
       "[< Block ID: B1 Name: Block 1 ['A', 'E']->['E']>,\n",
       " < Block ID: B2 Name: Block 2 ['E']->['C']>,\n",
       " < Block ID: B3 Name: Block 3 ['E', 'B']->['D']>]"
      ]
     },
     "execution_count": 15,
     "metadata": {},
     "output_type": "execute_result"
    }
   ],
   "source": [
    "project.blocks"
   ]
  },
  {
   "cell_type": "code",
   "execution_count": null,
   "metadata": {},
   "outputs": [
    {
     "data": {
      "text/plain": [
       "[< Space ID: S1 Name: A >,\n",
       " < Space ID: S2 Name: B >,\n",
       " < Space ID: S3 Name: C >,\n",
       " < Space ID: S4 Name: D >,\n",
       " < Space ID: S5 Name: E >]"
      ]
     },
     "execution_count": 16,
     "metadata": {},
     "output_type": "execute_result"
    }
   ],
   "source": [
    "project.spaces"
   ]
  },
  {
   "cell_type": "code",
   "execution_count": null,
   "metadata": {},
   "outputs": [
    {
     "data": {
      "text/plain": [
       "[< Processor ID: P1 Name: Processor 1 ['A', 'E']->['E']>,\n",
       " < Processor ID: P2 Name: Processor 2 ['E']->['C']>,\n",
       " < Processor ID: P3 Name: Processor 3 ['E', 'B']->['D']>]"
      ]
     },
     "execution_count": 17,
     "metadata": {},
     "output_type": "execute_result"
    }
   ],
   "source": [
    "project.processors"
   ]
  },
  {
   "cell_type": "code",
   "execution_count": null,
   "metadata": {},
   "outputs": [
    {
     "data": {
      "text/plain": [
       "[< Wire ID: W1 Space: E Source: (Processor 1, 0) Target: (Processor 2, 0) >,\n",
       " < Wire ID: W2 Space: E Source: (Processor 1, 0) Target: (Processor 3, 0) >,\n",
       " < Wire ID: W3 Space: E Source: (Processor 1, 0) Target: (Processor 1, 1) >]"
      ]
     },
     "execution_count": 18,
     "metadata": {},
     "output_type": "execute_result"
    }
   ],
   "source": [
    "project.wires"
   ]
  },
  {
   "cell_type": "code",
   "execution_count": null,
   "metadata": {},
   "outputs": [
    {
     "data": {
      "text/plain": [
       "[< System Name: System 1 ID: Sys1 Processors: ['Processor 1', 'Processor 2', 'Processor 3'] Wires: ['W1', 'W2', 'W3'] >]"
      ]
     },
     "execution_count": 19,
     "metadata": {},
     "output_type": "execute_result"
    }
   ],
   "source": [
    "project.systems"
   ]
  },
  {
   "cell_type": "code",
   "execution_count": null,
   "metadata": {},
   "outputs": [],
   "source": []
  }
 ],
 "metadata": {
  "kernelspec": {
   "display_name": "MSML",
   "language": "python",
   "name": "python3"
  },
  "language_info": {
   "codemirror_mode": {
    "name": "ipython",
    "version": 3
   },
   "file_extension": ".py",
   "mimetype": "text/x-python",
   "name": "python",
   "nbconvert_exporter": "python",
   "pygments_lexer": "ipython3",
   "version": "3.9.19"
  }
 },
 "nbformat": 4,
 "nbformat_minor": 2
}
