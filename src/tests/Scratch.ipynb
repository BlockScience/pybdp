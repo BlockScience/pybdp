{
 "cells": [
  {
   "cell_type": "code",
   "execution_count": 1,
   "metadata": {},
   "outputs": [],
   "source": [
    "import sys\n",
    "\n",
    "sys.path.append('..')\n",
    "\n",
    "from bdp_lib import load_project, schema\n",
    "\n",
    "\n",
    "\n",
    "project_json = {\"Toolbox\": {\"Spaces\": [{\"ID\": \"S1\", \"Name\": \"A\", \"Description\": \"Space 1\"},\n",
    "                                       {\"ID\": \"S2\", \"Name\": \"B\"},\n",
    "                                       {\"ID\": \"S3\", \"Name\": \"C\", \"Description\": \"Space 3\"},\n",
    "                                       {\"ID\": \"S4\", \"Name\": \"D\"},\n",
    "                                       {\"ID\": \"S5\", \"Name\": \"E\", \"Description\": \"Space 5\"}],\n",
    "                            \"Blocks\": [{\"ID\": \"B1\", \"Name\": \"Block 1\", \"Description\": \"Block 1\", \"Domain\": [\"S1\", \"S5\"], \"Codomain\": [\"S5\"]},\n",
    "                                       {\"ID\": \"B2\", \"Name\": \"Block 2\", \"Domain\": [\"S5\"], \"Codomain\": [\"S3\"]},\n",
    "                                       {\"ID\": \"B3\", \"Name\": \"Block 3\", \"Domain\": [\"S5\", \"S2\"], \"Codomain\": [\"S4\"]}],},\n",
    "                \"Workbench\": {\"Processors\": [{\"ID\": \"P1\", \"Name\": \"Processor 1\", \"Description\": \"Processor 1\",\n",
    "                                              \"Parent\": \"B1\", \"Ports\": [\"S1\", \"S5\"], \"Terminals\": [\"S5\"]},\n",
    "                                              {\"ID\": \"P2\", \"Name\": \"Processor 2\", \n",
    "                                              \"Parent\": \"B2\", \"Ports\": [\"S5\"], \"Terminals\": [\"S3\"]},\n",
    "                                              {\"ID\": \"P3\", \"Name\": \"Processor 3\", \n",
    "                                              \"Parent\": \"B3\", \"Ports\": [\"S5\", \"S2\"], \"Terminals\": [\"S4\"]}],\n",
    "                              \"Wires\": [{\"ID\": \"W1\", \"Parent\": \"S5\", \"Source\": {\"Processor\": \"P1\", \"Index\":0}, \"Target\": {\"Processor\": \"P2\", \"Index\":0}},\n",
    "                              {\"ID\": \"W2\", \"Parent\": \"S5\", \"Source\": {\"Processor\": \"P1\", \"Index\":0}, \"Target\": {\"Processor\": \"P3\", \"Index\":0}},\n",
    "                              {\"ID\": \"W3\", \"Parent\": \"S5\", \"Source\": {\"Processor\": \"P1\", \"Index\":0}, \"Target\": {\"Processor\": \"P1\", \"Index\":1}}],\n",
    "                              \"Systems\": [{\"ID\": \"Sys1\", \"Name\": \"System 1\", \"Description\": \"My System\",\n",
    "                                           \"Processors\": [\"P1\", \"P2\", \"P3\"],\n",
    "                                           \"Wires\": [\"W1\", \"W2\", \"W3\"]}],}}\n",
    "\n",
    "\n",
    "project = load_project(project_json)"
   ]
  },
  {
   "cell_type": "code",
   "execution_count": 2,
   "metadata": {},
   "outputs": [
    {
     "name": "stdout",
     "output_type": "stream",
     "text": [
      "-----Add the following to your JSON-----\n",
      "\n",
      "Add to blocks:\n",
      "{'Codomain': ['S3', 'S4'],\n",
      " 'Description': 'A lazy loaded composite processor for System 1',\n",
      " 'Domain': ['S1', 'S2'],\n",
      " 'ID': 'Sys1-CP Block',\n",
      " 'Name': 'System 1-CP Block'}\n",
      "\n",
      "Add to wirings:\n",
      "[{'ID': 'Sys1-CP-P0',\n",
      "  'Parent': 'S1',\n",
      "  'Source': {'Index': 0, 'Processor': 'Sys1-CP'},\n",
      "  'Target': {'Index': 0, 'Processor': 'P1'}},\n",
      " {'ID': 'Sys1-CP-P1',\n",
      "  'Parent': 'S2',\n",
      "  'Source': {'Index': 1, 'Processor': 'Sys1-CP'},\n",
      "  'Target': {'Index': 1, 'Processor': 'P3'}},\n",
      " {'ID': 'Sys1-CP-T0',\n",
      "  'Parent': 'S3',\n",
      "  'Source': {'Index': 0, 'Processor': 'P2'},\n",
      "  'Target': {'Index': 0, 'Processor': 'Sys1-CP'}},\n",
      " {'ID': 'Sys1-CP-T1',\n",
      "  'Parent': 'S4',\n",
      "  'Source': {'Index': 0, 'Processor': 'P3'},\n",
      "  'Target': {'Index': 1, 'Processor': 'Sys1-CP'}}]\n"
     ]
    }
   ],
   "source": [
    "project.systems[0].make_processor_lazy()"
   ]
  },
  {
   "cell_type": "code",
   "execution_count": null,
   "metadata": {},
   "outputs": [],
   "source": [
    "from copy import deepcopy\n",
    "project2_json = deepcopy(project_json)\n",
    "\n",
    "project2_json[\"Toolbox\"][\"Blocks\"].append({'Codomain': ['S3', 'S4'],\n",
    " 'Description': 'A lazy loaded composite processor for System 1',\n",
    " 'Domain': ['S1', 'S2'],\n",
    " 'ID': 'Sys1-CP',\n",
    " 'Name': 'System 1-CP'})\n",
    "\n",
    "project2_json[\"Workbench\"][\"Wires\"].extend([{'ID': 'Sys1-CP-P0',\n",
    "  'Parent': 'S1',\n",
    "  'Source': {'Index': 0, 'Processor': 'Sys1-CP'},\n",
    "  'Target': {'Index': 0, 'Processor': 'P1'}},\n",
    " {'ID': 'Sys1-CP-P1',\n",
    "  'Parent': 'S2',\n",
    "  'Source': {'Index': 1, 'Processor': 'Sys1-CP'},\n",
    "  'Target': {'Index': 1, 'Processor': 'P3'}},\n",
    " {'ID': 'Sys1-CP-T0',\n",
    "  'Parent': 'S3',\n",
    "  'Source': {'Index': 0, 'Processor': 'P2'},\n",
    "  'Target': {'Index': 0, 'Processor': 'Sys1-CP'}},\n",
    " {'ID': 'Sys1-CP-T1',\n",
    "  'Parent': 'S4',\n",
    "  'Source': {'Index': 0, 'Processor': 'P3'},\n",
    "  'Target': {'Index': 1, 'Processor': 'Sys1-CP'}}])\n",
    "\n",
    "project2 = load_project(project2_json)"
   ]
  },
  {
   "cell_type": "code",
   "execution_count": null,
   "metadata": {},
   "outputs": [],
   "source": []
  },
  {
   "cell_type": "code",
   "execution_count": 4,
   "metadata": {},
   "outputs": [
    {
     "data": {
      "text/plain": [
       "< Project\n",
       "Toolbox:\n",
       "\n",
       "< Toolbox\n",
       "Blocks: ['Block 1', 'Block 2', 'Block 3']\n",
       "Spaces: ['A', 'B', 'C', 'D', 'E'] >\n",
       "\n",
       "Workbench:\n",
       "\n",
       "<Workbench\n",
       "Processors: ['Processor 1', 'Processor 2', 'Processor 3']\n",
       "Wires: ['W1', 'W2', 'W3']\n",
       "Systems: ['System 1'] > >"
      ]
     },
     "execution_count": 4,
     "metadata": {},
     "output_type": "execute_result"
    }
   ],
   "source": [
    "project"
   ]
  },
  {
   "cell_type": "code",
   "execution_count": 5,
   "metadata": {},
   "outputs": [
    {
     "data": {
      "text/plain": [
       "< Toolbox\n",
       "Blocks: ['Block 1', 'Block 2', 'Block 3']\n",
       "Spaces: ['A', 'B', 'C', 'D', 'E'] >"
      ]
     },
     "execution_count": 5,
     "metadata": {},
     "output_type": "execute_result"
    }
   ],
   "source": [
    "project.toolbox"
   ]
  },
  {
   "cell_type": "code",
   "execution_count": 6,
   "metadata": {},
   "outputs": [
    {
     "data": {
      "text/plain": [
       "<Workbench\n",
       "Processors: ['Processor 1', 'Processor 2', 'Processor 3']\n",
       "Wires: ['W1', 'W2', 'W3']\n",
       "Systems: ['System 1'] >"
      ]
     },
     "execution_count": 6,
     "metadata": {},
     "output_type": "execute_result"
    }
   ],
   "source": [
    "project.workbench"
   ]
  },
  {
   "cell_type": "code",
   "execution_count": 7,
   "metadata": {},
   "outputs": [
    {
     "data": {
      "text/plain": [
       "[< Block ID: B1 Name: Block 1 ['A', 'E']->['E']>,\n",
       " < Block ID: B2 Name: Block 2 ['E']->['C']>,\n",
       " < Block ID: B3 Name: Block 3 ['E', 'B']->['D']>]"
      ]
     },
     "execution_count": 7,
     "metadata": {},
     "output_type": "execute_result"
    }
   ],
   "source": [
    "project.blocks"
   ]
  },
  {
   "cell_type": "code",
   "execution_count": 8,
   "metadata": {},
   "outputs": [
    {
     "data": {
      "text/plain": [
       "[< Space ID: S1 Name: A >,\n",
       " < Space ID: S2 Name: B >,\n",
       " < Space ID: S3 Name: C >,\n",
       " < Space ID: S4 Name: D >,\n",
       " < Space ID: S5 Name: E >]"
      ]
     },
     "execution_count": 8,
     "metadata": {},
     "output_type": "execute_result"
    }
   ],
   "source": [
    "project.spaces"
   ]
  },
  {
   "cell_type": "code",
   "execution_count": 9,
   "metadata": {},
   "outputs": [
    {
     "data": {
      "text/plain": [
       "[< Processor ID: P1 Name: Processor 1 ['A', 'E']->['E']>,\n",
       " < Processor ID: P2 Name: Processor 2 ['E']->['C']>,\n",
       " < Processor ID: P3 Name: Processor 3 ['E', 'B']->['D']>]"
      ]
     },
     "execution_count": 9,
     "metadata": {},
     "output_type": "execute_result"
    }
   ],
   "source": [
    "project.processors"
   ]
  },
  {
   "cell_type": "code",
   "execution_count": 10,
   "metadata": {},
   "outputs": [
    {
     "data": {
      "text/plain": [
       "[< Wire ID: W1 Space: E Source: (Processor 1, 0) Target: (Processor 2, 0) >,\n",
       " < Wire ID: W2 Space: E Source: (Processor 1, 0) Target: (Processor 3, 0) >,\n",
       " < Wire ID: W3 Space: E Source: (Processor 1, 0) Target: (Processor 1, 1) >]"
      ]
     },
     "execution_count": 10,
     "metadata": {},
     "output_type": "execute_result"
    }
   ],
   "source": [
    "project.wires"
   ]
  },
  {
   "cell_type": "code",
   "execution_count": 11,
   "metadata": {},
   "outputs": [
    {
     "data": {
      "text/plain": [
       "[< System Name: System 1 ID: Sys1 Processors: ['Processor 1', 'Processor 2', 'Processor 3'] Wires: ['W1', 'W2', 'W3'] >]"
      ]
     },
     "execution_count": 11,
     "metadata": {},
     "output_type": "execute_result"
    }
   ],
   "source": [
    "project.systems"
   ]
  },
  {
   "cell_type": "code",
   "execution_count": null,
   "metadata": {},
   "outputs": [],
   "source": []
  }
 ],
 "metadata": {
  "kernelspec": {
   "display_name": "MSML",
   "language": "python",
   "name": "python3"
  },
  "language_info": {
   "codemirror_mode": {
    "name": "ipython",
    "version": 3
   },
   "file_extension": ".py",
   "mimetype": "text/x-python",
   "name": "python",
   "nbconvert_exporter": "python",
   "pygments_lexer": "ipython3",
   "version": "3.9.19"
  }
 },
 "nbformat": 4,
 "nbformat_minor": 2
}
