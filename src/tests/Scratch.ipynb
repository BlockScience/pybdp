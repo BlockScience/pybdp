{
 "cells": [
  {
   "cell_type": "code",
   "execution_count": 1,
   "metadata": {},
   "outputs": [
    {
     "name": "stdout",
     "output_type": "stream",
     "text": [
      "Implement validation that there are no duplicate IDs\n"
     ]
    }
   ],
   "source": [
    "import sys\n",
    "\n",
    "sys.path.append('..')\n",
    "\n",
    "from bdp_lib import load_project, schema\n",
    "\n",
    "\n",
    "\n",
    "project_json = {\"Toolbox\": {\"Spaces\": [{\"ID\": \"S1\", \"Name\": \"A\", \"Description\": \"Space 1\"},\n",
    "                                       {\"ID\": \"S2\", \"Name\": \"B\"},\n",
    "                                       {\"ID\": \"S3\", \"Name\": \"C\", \"Description\": \"Space 3\"},\n",
    "                                       {\"ID\": \"S4\", \"Name\": \"D\"},\n",
    "                                       {\"ID\": \"S5\", \"Name\": \"E\", \"Description\": \"Space 5\"}],\n",
    "                            \"Blocks\": [{\"ID\": \"P1\", \"Name\": \"P1\", \"Description\": \"Processor 1\", \"Domain\": [\"S1\", \"S5\"], \"Codomain\": [\"S5\"]},\n",
    "                                       {\"ID\": \"P2\", \"Name\": \"P2\", \"Domain\": [\"S5\"], \"Codomain\": [\"S3\"]},\n",
    "                                       {\"ID\": \"P3\", \"Name\": \"P3\", \"Domain\": [\"S5\", \"S2\"], \"Codomain\": [\"S4\"]}],},\n",
    "                \"Workbench\": {\"Processors\": [],\n",
    "                              \"Wires\": [],\n",
    "                              \"Systems\": [],}}\n",
    "\n",
    "\n",
    "project = load_project(project_json)"
   ]
  },
  {
   "cell_type": "code",
   "execution_count": null,
   "metadata": {},
   "outputs": [],
   "source": []
  },
  {
   "cell_type": "code",
   "execution_count": null,
   "metadata": {},
   "outputs": [],
   "source": []
  }
 ],
 "metadata": {
  "kernelspec": {
   "display_name": "MSML",
   "language": "python",
   "name": "python3"
  },
  "language_info": {
   "codemirror_mode": {
    "name": "ipython",
    "version": 3
   },
   "file_extension": ".py",
   "mimetype": "text/x-python",
   "name": "python",
   "nbconvert_exporter": "python",
   "pygments_lexer": "ipython3",
   "version": "3.9.19"
  }
 },
 "nbformat": 4,
 "nbformat_minor": 2
}
