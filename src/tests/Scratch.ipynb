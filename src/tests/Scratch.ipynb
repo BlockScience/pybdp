{
 "cells": [
  {
   "cell_type": "code",
   "execution_count": 1,
   "metadata": {},
   "outputs": [],
   "source": [
    "import sys\n",
    "\n",
    "sys.path.append('..')\n",
    "\n",
    "from pybdp import load_project, schema\n",
    "\n",
    "\n",
    "\n",
    "project_json = {\"Toolbox\": {\"Spaces\": [{\"ID\": \"S1\", \"Name\": \"A\", \"Description\": \"Space 1\"},\n",
    "                                       {\"ID\": \"S2\", \"Name\": \"B\"},\n",
    "                                       {\"ID\": \"S3\", \"Name\": \"C\", \"Description\": \"Space 3\"},\n",
    "                                       {\"ID\": \"S4\", \"Name\": \"D\"},\n",
    "                                       {\"ID\": \"S5\", \"Name\": \"E\", \"Description\": \"Space 5\"}],\n",
    "                            \"Blocks\": [{\"ID\": \"B1\", \"Name\": \"Block 1\", \"Description\": \"Block 1\", \"Domain\": [\"S1\", \"S5\"], \"Codomain\": [\"S5\"]},\n",
    "                                       {\"ID\": \"B2\", \"Name\": \"Block 2\", \"Domain\": [\"S5\"], \"Codomain\": [\"S3\"]},\n",
    "                                       {\"ID\": \"B3\", \"Name\": \"Block 3\", \"Domain\": [\"S5\", \"S2\"], \"Codomain\": [\"S4\"]}],},\n",
    "                \"Workbench\": {\"Processors\": [{\"ID\": \"P1\", \"Name\": \"Processor 1\", \"Description\": \"Processor 1\",\n",
    "                                              \"Parent\": \"B1\", \"Ports\": [\"S1\", \"S5\"], \"Terminals\": [\"S5\"]},\n",
    "                                              {\"ID\": \"P2\", \"Name\": \"Processor 2\", \n",
    "                                              \"Parent\": \"B2\", \"Ports\": [\"S5\"], \"Terminals\": [\"S3\"]},\n",
    "                                              {\"ID\": \"P3\", \"Name\": \"Processor 3\", \n",
    "                                              \"Parent\": \"B3\", \"Ports\": [\"S5\", \"S2\"], \"Terminals\": [\"S4\"]}],\n",
    "                              \"Wires\": [{\"ID\": \"W1\", \"Parent\": \"S5\", \"Source\": {\"Processor\": \"P1\", \"Index\":0}, \"Target\": {\"Processor\": \"P2\", \"Index\":0}},\n",
    "                              {\"ID\": \"W2\", \"Parent\": \"S5\", \"Source\": {\"Processor\": \"P1\", \"Index\":0}, \"Target\": {\"Processor\": \"P3\", \"Index\":0}},\n",
    "                              {\"ID\": \"W3\", \"Parent\": \"S5\", \"Source\": {\"Processor\": \"P1\", \"Index\":0}, \"Target\": {\"Processor\": \"P1\", \"Index\":1}}],\n",
    "                              \"Systems\": [{\"ID\": \"Sys1\", \"Name\": \"System 1\", \"Description\": \"My System\",\n",
    "                                           \"Processors\": [\"P1\", \"P2\", \"P3\"],\n",
    "                                           \"Wires\": [\"W1\", \"W2\", \"W3\"]}],}}\n",
    "\n",
    "\n",
    "project = load_project(project_json)"
   ]
  },
  {
   "cell_type": "code",
   "execution_count": 2,
   "metadata": {},
   "outputs": [
    {
     "name": "stdout",
     "output_type": "stream",
     "text": [
      "-----Add the following to your JSON-----\n",
      "\n",
      "Add to blocks:\n",
      "{'Codomain': ['S3', 'S4'],\n",
      " 'Description': 'A lazy loaded composite processor block for System 1',\n",
      " 'Domain': ['S1', 'S2'],\n",
      " 'ID': 'Sys1-CP Block',\n",
      " 'Name': 'System 1-CP Block'}\n",
      "\n",
      "Add to processors:\n",
      "{'Description': 'A lazy loaded composite processor block for System 1',\n",
      " 'ID': 'Sys1-CP',\n",
      " 'Name': 'System 1-CP',\n",
      " 'Parent': 'Sys1-CP Block',\n",
      " 'Ports': ['S1', 'S2'],\n",
      " 'Subsystem': {'Port Mappings': [{'Index': 0, 'Processor': 'P1'},\n",
      "                                 {'Index': 1, 'Processor': 'P3'}],\n",
      "               'System ID': 'Sys1',\n",
      "               'Terminal Mappings': [{'Index': 0, 'Processor': 'P2'},\n",
      "                                     {'Index': 0, 'Processor': 'P3'}]},\n",
      " 'Terminals': ['S3', 'S4']}\n"
     ]
    }
   ],
   "source": [
    "project.systems[0].make_processor_lazy()"
   ]
  },
  {
   "cell_type": "code",
   "execution_count": 3,
   "metadata": {},
   "outputs": [],
   "source": [
    "from copy import deepcopy\n",
    "project2_json = deepcopy(project_json)\n",
    "\n",
    "project2_json[\"Toolbox\"][\"Blocks\"].append({'Codomain': ['S3', 'S4'],\n",
    " 'Description': 'A lazy loaded composite processor block for System 1',\n",
    " 'Domain': ['S1', 'S2'],\n",
    " 'ID': 'Sys1-CP Block',\n",
    " 'Name': 'System 1-CP Block'})\n",
    "\n",
    "\n",
    "project2_json['Workbench']['Processors'].append({'Description': 'A lazy loaded composite processor block for System 1',\n",
    " 'ID': 'Sys1-CP',\n",
    " 'Name': 'System 1-CP',\n",
    " 'Parent': 'Sys1-CP Block',\n",
    " 'Ports': ['S1', 'S2'],\n",
    " 'Subsystem': {'Port Mappings': [{'Index': 0, 'Processor': 'P1'},\n",
    "                                 {'Index': 1, 'Processor': 'P3'}],\n",
    "               'System ID': 'Sys1',\n",
    "               'Terminal Mappings': [{'Index': 0, 'Processor': 'P2'},\n",
    "                                     {'Index': 0, 'Processor': 'P3'}]},\n",
    " 'Terminals': ['S3', 'S4']})\n",
    "\n",
    "project2 = load_project(project2_json)"
   ]
  },
  {
   "cell_type": "code",
   "execution_count": 4,
   "metadata": {},
   "outputs": [
    {
     "data": {
      "text/markdown": [
       "```mermaid\n",
       "---\n",
       "config:\n",
       "    layout: elk\n",
       "---\n",
       "graph LR\n",
       "subgraph GS0[System 1]\n",
       "subgraph G0[Processor 1 - Block 1 Block]\n",
       "direction LR\n",
       "X0[Processor 1]\n",
       "subgraph G0P[Ports]\n",
       "direction TB\n",
       "XX0P0[A]\n",
       "XX0P1[E]\n",
       "end\n",
       "XX0P0[A] o--o X0\n",
       "XX0P1[E] o--o X0\n",
       "subgraph G0T[Terminals]\n",
       "direction TB\n",
       "XX0T0[E]\n",
       "end\n",
       "X0 o--o XX0T0[E]\n",
       "end\n",
       "subgraph G1[Processor 2 - Block 2 Block]\n",
       "direction LR\n",
       "X1[Processor 2]\n",
       "subgraph G1P[Ports]\n",
       "direction TB\n",
       "XX1P0[E]\n",
       "end\n",
       "XX1P0[E] o--o X1\n",
       "subgraph G1T[Terminals]\n",
       "direction TB\n",
       "XX1T0[C]\n",
       "end\n",
       "X1 o--o XX1T0[C]\n",
       "end\n",
       "subgraph G2[Processor 3 - Block 3 Block]\n",
       "direction LR\n",
       "X2[Processor 3]\n",
       "subgraph G2P[Ports]\n",
       "direction TB\n",
       "XX2P0[E]\n",
       "XX2P1[B]\n",
       "end\n",
       "XX2P0[E] o--o X2\n",
       "XX2P1[B] o--o X2\n",
       "subgraph G2T[Terminals]\n",
       "direction TB\n",
       "XX2T0[D]\n",
       "end\n",
       "X2 o--o XX2T0[D]\n",
       "end\n",
       "XX0T0[E] ---> XX1P0[E]\n",
       "XX0T0[E] ---> XX2P0[E]\n",
       "XX0T0[E] ---> XX0P1[E]\n",
       "end\n",
       "\n",
       "```"
      ],
      "text/plain": [
       "<IPython.core.display.Markdown object>"
      ]
     },
     "metadata": {},
     "output_type": "display_data"
    }
   ],
   "source": [
    "from IPython.display import Markdown\n",
    "\n",
    "\n",
    "display(Markdown(project2.systems_map[\"Sys1\"].create_mermaid_graphic()[0]))"
   ]
  },
  {
   "cell_type": "code",
   "execution_count": 5,
   "metadata": {},
   "outputs": [
    {
     "data": {
      "text/markdown": [
       "```mermaid\n",
       "---\n",
       "config:\n",
       "    layout: elk\n",
       "---\n",
       "graph LR\n",
       "subgraph GC0[System 1-CP - System 1-CP Block Block]\n",
       "direction LR\n",
       "subgraph GS0[System 1]\n",
       "subgraph G0[Processor 1 - Block 1 Block]\n",
       "direction LR\n",
       "X0[Processor 1]\n",
       "subgraph G0P[Ports]\n",
       "direction TB\n",
       "XX0P0[A]\n",
       "XX0P1[E]\n",
       "end\n",
       "XX0P0[A] o--o X0\n",
       "XX0P1[E] o--o X0\n",
       "subgraph G0T[Terminals]\n",
       "direction TB\n",
       "XX0T0[E]\n",
       "end\n",
       "X0 o--o XX0T0[E]\n",
       "end\n",
       "subgraph G1[Processor 2 - Block 2 Block]\n",
       "direction LR\n",
       "X1[Processor 2]\n",
       "subgraph G1P[Ports]\n",
       "direction TB\n",
       "XX1P0[E]\n",
       "end\n",
       "XX1P0[E] o--o X1\n",
       "subgraph G1T[Terminals]\n",
       "direction TB\n",
       "XX1T0[C]\n",
       "end\n",
       "X1 o--o XX1T0[C]\n",
       "end\n",
       "subgraph G2[Processor 3 - Block 3 Block]\n",
       "direction LR\n",
       "X2[Processor 3]\n",
       "subgraph G2P[Ports]\n",
       "direction TB\n",
       "XX2P0[E]\n",
       "XX2P1[B]\n",
       "end\n",
       "XX2P0[E] o--o X2\n",
       "XX2P1[B] o--o X2\n",
       "subgraph G2T[Terminals]\n",
       "direction TB\n",
       "XX2T0[D]\n",
       "end\n",
       "X2 o--o XX2T0[D]\n",
       "end\n",
       "XX0T0[E] ---> XX1P0[E]\n",
       "XX0T0[E] ---> XX2P0[E]\n",
       "XX0T0[E] ---> XX0P1[E]\n",
       "end\n",
       "end\n",
       "\n",
       "```"
      ],
      "text/plain": [
       "<IPython.core.display.Markdown object>"
      ]
     },
     "metadata": {},
     "output_type": "display_data"
    }
   ],
   "source": [
    "display(Markdown(project2.processors_map[\"Sys1-CP\"].create_mermaid_graphic_composite()[0]))"
   ]
  },
  {
   "cell_type": "code",
   "execution_count": 6,
   "metadata": {},
   "outputs": [
    {
     "data": {
      "text/plain": [
       "< Toolbox\n",
       "Blocks: ['Block 1', 'Block 2', 'Block 3']\n",
       "Spaces: ['A', 'B', 'C', 'D', 'E'] >"
      ]
     },
     "execution_count": 6,
     "metadata": {},
     "output_type": "execute_result"
    }
   ],
   "source": [
    "project.toolbox"
   ]
  },
  {
   "cell_type": "code",
   "execution_count": 7,
   "metadata": {},
   "outputs": [
    {
     "data": {
      "text/plain": [
       "<Workbench\n",
       "Processors: ['Processor 1', 'Processor 2', 'Processor 3']\n",
       "Wires: ['W1', 'W2', 'W3']\n",
       "Systems: ['System 1'] >"
      ]
     },
     "execution_count": 7,
     "metadata": {},
     "output_type": "execute_result"
    }
   ],
   "source": [
    "project.workbench"
   ]
  },
  {
   "cell_type": "code",
   "execution_count": 8,
   "metadata": {},
   "outputs": [
    {
     "data": {
      "text/plain": [
       "[< Block ID: B1 Name: Block 1 ['A', 'E']->['E']>,\n",
       " < Block ID: B2 Name: Block 2 ['E']->['C']>,\n",
       " < Block ID: B3 Name: Block 3 ['E', 'B']->['D']>]"
      ]
     },
     "execution_count": 8,
     "metadata": {},
     "output_type": "execute_result"
    }
   ],
   "source": [
    "project.blocks"
   ]
  },
  {
   "cell_type": "code",
   "execution_count": 9,
   "metadata": {},
   "outputs": [
    {
     "data": {
      "text/plain": [
       "[< Space ID: S1 Name: A >,\n",
       " < Space ID: S2 Name: B >,\n",
       " < Space ID: S3 Name: C >,\n",
       " < Space ID: S4 Name: D >,\n",
       " < Space ID: S5 Name: E >]"
      ]
     },
     "execution_count": 9,
     "metadata": {},
     "output_type": "execute_result"
    }
   ],
   "source": [
    "project.spaces"
   ]
  },
  {
   "cell_type": "code",
   "execution_count": 10,
   "metadata": {},
   "outputs": [
    {
     "data": {
      "text/plain": [
       "[< Processor ID: P1 Name: Processor 1 ['A', 'E']->['E']>,\n",
       " < Processor ID: P2 Name: Processor 2 ['E']->['C']>,\n",
       " < Processor ID: P3 Name: Processor 3 ['E', 'B']->['D']>]"
      ]
     },
     "execution_count": 10,
     "metadata": {},
     "output_type": "execute_result"
    }
   ],
   "source": [
    "project.processors"
   ]
  },
  {
   "cell_type": "code",
   "execution_count": 11,
   "metadata": {},
   "outputs": [
    {
     "data": {
      "text/plain": [
       "[< Wire ID: W1 Space: E Source: (Processor 1, 0) Target: (Processor 2, 0) >,\n",
       " < Wire ID: W2 Space: E Source: (Processor 1, 0) Target: (Processor 3, 0) >,\n",
       " < Wire ID: W3 Space: E Source: (Processor 1, 0) Target: (Processor 1, 1) >]"
      ]
     },
     "execution_count": 11,
     "metadata": {},
     "output_type": "execute_result"
    }
   ],
   "source": [
    "project.wires"
   ]
  },
  {
   "cell_type": "code",
   "execution_count": 12,
   "metadata": {},
   "outputs": [
    {
     "data": {
      "text/plain": [
       "[< System Name: System 1 ID: Sys1 Processors: ['Processor 1', 'Processor 2', 'Processor 3'] Wires: ['W1', 'W2', 'W3'] >]"
      ]
     },
     "execution_count": 12,
     "metadata": {},
     "output_type": "execute_result"
    }
   ],
   "source": [
    "project.systems"
   ]
  },
  {
   "cell_type": "code",
   "execution_count": null,
   "metadata": {},
   "outputs": [],
   "source": []
  }
 ],
 "metadata": {
  "kernelspec": {
   "display_name": "MSML",
   "language": "python",
   "name": "python3"
  },
  "language_info": {
   "codemirror_mode": {
    "name": "ipython",
    "version": 3
   },
   "file_extension": ".py",
   "mimetype": "text/x-python",
   "name": "python",
   "nbconvert_exporter": "python",
   "pygments_lexer": "ipython3",
   "version": "3.9.19"
  }
 },
 "nbformat": 4,
 "nbformat_minor": 2
}
