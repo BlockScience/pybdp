{
 "cells": [
  {
   "cell_type": "code",
   "execution_count": 4,
   "metadata": {},
   "outputs": [],
   "source": [
    "import sys\n",
    "\n",
    "sys.path.append('..')\n",
    "\n",
    "from bdp_lib import load_project, schema\n",
    "\n",
    "\n",
    "\n",
    "project_json = {\"Toolbox\": {\"Spaces\": [{\"ID\": \"S1\", \"Name\": \"A\", \"Description\": \"Space 1\"},\n",
    "                                       {\"ID\": \"S2\", \"Name\": \"B\"},\n",
    "                                       {\"ID\": \"S3\", \"Name\": \"C\", \"Description\": \"Space 3\"},\n",
    "                                       {\"ID\": \"S4\", \"Name\": \"D\"},\n",
    "                                       {\"ID\": \"S5\", \"Name\": \"E\", \"Description\": \"Space 5\"}],\n",
    "                            \"Blocks\": [{\"ID\": \"B1\", \"Name\": \"Block 1\", \"Description\": \"Block 1\", \"Domain\": [\"S1\", \"S5\"], \"Codomain\": [\"S5\"]},\n",
    "                                       {\"ID\": \"B2\", \"Name\": \"Block 2\", \"Domain\": [\"S5\"], \"Codomain\": [\"S3\"]},\n",
    "                                       {\"ID\": \"B3\", \"Name\": \"Block 3\", \"Domain\": [\"S5\", \"S2\"], \"Codomain\": [\"S4\"]}],},\n",
    "                \"Workbench\": {\"Processors\": [{\"ID\": \"P1\", \"Name\": \"Processor 1\", \"Description\": \"Processor 1\",\n",
    "                                              \"Parent\": \"B1\", \"Ports\": [\"S1\", \"S5\"], \"Terminals\": [\"S5\"]},\n",
    "                                              {\"ID\": \"P2\", \"Name\": \"Processor 2\", \n",
    "                                              \"Parent\": \"B2\", \"Ports\": [\"S5\"], \"Terminals\": [\"S3\"]},\n",
    "                                              {\"ID\": \"P3\", \"Name\": \"Processor 3\", \n",
    "                                              \"Parent\": \"B3\", \"Ports\": [\"S5\", \"S2\"], \"Terminals\": [\"S4\"]}],\n",
    "                              \"Wires\": [{\"ID\": \"W1\", \"Parent\": \"S5\", \"Source\": {\"Processor\": \"P1\", \"Index\":0}, \"Target\": {\"Processor\": \"P2\", \"Index\":0}},\n",
    "                              {\"ID\": \"W2\", \"Parent\": \"S5\", \"Source\": {\"Processor\": \"P1\", \"Index\":0}, \"Target\": {\"Processor\": \"P3\", \"Index\":0}},\n",
    "                              {\"ID\": \"W3\", \"Parent\": \"S5\", \"Source\": {\"Processor\": \"P1\", \"Index\":0}, \"Target\": {\"Processor\": \"P1\", \"Index\":1}}],\n",
    "                              \"Systems\": [{\"ID\": \"Sys1\", \"Name\": \"System 1\", \"Description\": \"My System\",\n",
    "                                           \"Processors\": [\"P1\", \"P2\", \"P3\"],\n",
    "                                           \"Wires\": [\"W1\", \"W2\", \"W3\"]}],}}\n",
    "\n",
    "\n",
    "project = load_project(project_json)"
   ]
  },
  {
   "cell_type": "code",
   "execution_count": 5,
   "metadata": {},
   "outputs": [
    {
     "name": "stdout",
     "output_type": "stream",
     "text": [
      "-----Add the following to your JSON-----\n",
      "\n",
      "Add to blocks:\n",
      "{'Codomain': ['S3', 'S4'],\n",
      " 'Description': 'A lazy loaded composite processor block for System 1',\n",
      " 'Domain': ['S1', 'S2'],\n",
      " 'ID': 'Sys1-CP Block',\n",
      " 'Name': 'System 1-CP Block'}\n",
      "\n",
      "Add to wirings:\n",
      "[{'ID': 'Sys1-CP-P0',\n",
      "  'Parent': 'S1',\n",
      "  'Source': {'Index': 0, 'Processor': 'Sys1-CP'},\n",
      "  'Target': {'Index': 0, 'Processor': 'P1'}},\n",
      " {'ID': 'Sys1-CP-P1',\n",
      "  'Parent': 'S2',\n",
      "  'Source': {'Index': 1, 'Processor': 'Sys1-CP'},\n",
      "  'Target': {'Index': 1, 'Processor': 'P3'}},\n",
      " {'ID': 'Sys1-CP-T0',\n",
      "  'Parent': 'S3',\n",
      "  'Source': {'Index': 0, 'Processor': 'P2'},\n",
      "  'Target': {'Index': 0, 'Processor': 'Sys1-CP'}},\n",
      " {'ID': 'Sys1-CP-T1',\n",
      "  'Parent': 'S4',\n",
      "  'Source': {'Index': 0, 'Processor': 'P3'},\n",
      "  'Target': {'Index': 1, 'Processor': 'Sys1-CP'}}]\n",
      "\n",
      "Add to processors:\n",
      "{'Description': 'A lazy loaded composite processor block for System 1',\n",
      " 'ID': 'Sys1-CP',\n",
      " 'Name': 'System 1-CP',\n",
      " 'Parent': 'Sys1-CP Block',\n",
      " 'Ports': ['S1', 'S2'],\n",
      " 'Subsystem': {'System ID': 'Sys1',\n",
      "               'Wires': ['Sys1-CP-P0',\n",
      "                         'Sys1-CP-P1',\n",
      "                         'Sys1-CP-T0',\n",
      "                         'Sys1-CP-T1']},\n",
      " 'Terminals': ['S3', 'S4']}\n"
     ]
    }
   ],
   "source": [
    "project.systems[0].make_processor_lazy()"
   ]
  },
  {
   "cell_type": "code",
   "execution_count": 7,
   "metadata": {},
   "outputs": [
    {
     "ename": "AssertionError",
     "evalue": "The terminal space < Space ID: S3 Name: C > of processor System 1-CP does not match the wire space < Space ID: S1 Name: A > for wire Sys1-CP-P0",
     "output_type": "error",
     "traceback": [
      "\u001b[0;31m---------------------------------------------------------------------------\u001b[0m",
      "\u001b[0;31mAssertionError\u001b[0m                            Traceback (most recent call last)",
      "Cell \u001b[0;32mIn[7], line 39\u001b[0m\n\u001b[1;32m     10\u001b[0m project2_json[\u001b[38;5;124m\"\u001b[39m\u001b[38;5;124mWorkbench\u001b[39m\u001b[38;5;124m\"\u001b[39m][\u001b[38;5;124m\"\u001b[39m\u001b[38;5;124mWires\u001b[39m\u001b[38;5;124m\"\u001b[39m]\u001b[38;5;241m.\u001b[39mextend([{\u001b[38;5;124m'\u001b[39m\u001b[38;5;124mID\u001b[39m\u001b[38;5;124m'\u001b[39m: \u001b[38;5;124m'\u001b[39m\u001b[38;5;124mSys1-CP-P0\u001b[39m\u001b[38;5;124m'\u001b[39m,\n\u001b[1;32m     11\u001b[0m   \u001b[38;5;124m'\u001b[39m\u001b[38;5;124mParent\u001b[39m\u001b[38;5;124m'\u001b[39m: \u001b[38;5;124m'\u001b[39m\u001b[38;5;124mS1\u001b[39m\u001b[38;5;124m'\u001b[39m,\n\u001b[1;32m     12\u001b[0m   \u001b[38;5;124m'\u001b[39m\u001b[38;5;124mSource\u001b[39m\u001b[38;5;124m'\u001b[39m: {\u001b[38;5;124m'\u001b[39m\u001b[38;5;124mIndex\u001b[39m\u001b[38;5;124m'\u001b[39m: \u001b[38;5;241m0\u001b[39m, \u001b[38;5;124m'\u001b[39m\u001b[38;5;124mProcessor\u001b[39m\u001b[38;5;124m'\u001b[39m: \u001b[38;5;124m'\u001b[39m\u001b[38;5;124mSys1-CP\u001b[39m\u001b[38;5;124m'\u001b[39m},\n\u001b[0;32m   (...)\u001b[0m\n\u001b[1;32m     24\u001b[0m   \u001b[38;5;124m'\u001b[39m\u001b[38;5;124mSource\u001b[39m\u001b[38;5;124m'\u001b[39m: {\u001b[38;5;124m'\u001b[39m\u001b[38;5;124mIndex\u001b[39m\u001b[38;5;124m'\u001b[39m: \u001b[38;5;241m0\u001b[39m, \u001b[38;5;124m'\u001b[39m\u001b[38;5;124mProcessor\u001b[39m\u001b[38;5;124m'\u001b[39m: \u001b[38;5;124m'\u001b[39m\u001b[38;5;124mP3\u001b[39m\u001b[38;5;124m'\u001b[39m},\n\u001b[1;32m     25\u001b[0m   \u001b[38;5;124m'\u001b[39m\u001b[38;5;124mTarget\u001b[39m\u001b[38;5;124m'\u001b[39m: {\u001b[38;5;124m'\u001b[39m\u001b[38;5;124mIndex\u001b[39m\u001b[38;5;124m'\u001b[39m: \u001b[38;5;241m1\u001b[39m, \u001b[38;5;124m'\u001b[39m\u001b[38;5;124mProcessor\u001b[39m\u001b[38;5;124m'\u001b[39m: \u001b[38;5;124m'\u001b[39m\u001b[38;5;124mSys1-CP\u001b[39m\u001b[38;5;124m'\u001b[39m}}])\n\u001b[1;32m     27\u001b[0m project2_json[\u001b[38;5;124m'\u001b[39m\u001b[38;5;124mWorkbench\u001b[39m\u001b[38;5;124m'\u001b[39m][\u001b[38;5;124m'\u001b[39m\u001b[38;5;124mProcessors\u001b[39m\u001b[38;5;124m'\u001b[39m]\u001b[38;5;241m.\u001b[39mappend({\u001b[38;5;124m'\u001b[39m\u001b[38;5;124mDescription\u001b[39m\u001b[38;5;124m'\u001b[39m: \u001b[38;5;124m'\u001b[39m\u001b[38;5;124mA lazy loaded composite processor block for System 1\u001b[39m\u001b[38;5;124m'\u001b[39m,\n\u001b[1;32m     28\u001b[0m  \u001b[38;5;124m'\u001b[39m\u001b[38;5;124mID\u001b[39m\u001b[38;5;124m'\u001b[39m: \u001b[38;5;124m'\u001b[39m\u001b[38;5;124mSys1-CP\u001b[39m\u001b[38;5;124m'\u001b[39m,\n\u001b[1;32m     29\u001b[0m  \u001b[38;5;124m'\u001b[39m\u001b[38;5;124mName\u001b[39m\u001b[38;5;124m'\u001b[39m: \u001b[38;5;124m'\u001b[39m\u001b[38;5;124mSystem 1-CP\u001b[39m\u001b[38;5;124m'\u001b[39m,\n\u001b[0;32m   (...)\u001b[0m\n\u001b[1;32m     36\u001b[0m                          \u001b[38;5;124m'\u001b[39m\u001b[38;5;124mSys1-CP-T1\u001b[39m\u001b[38;5;124m'\u001b[39m]},\n\u001b[1;32m     37\u001b[0m  \u001b[38;5;124m'\u001b[39m\u001b[38;5;124mTerminals\u001b[39m\u001b[38;5;124m'\u001b[39m: [\u001b[38;5;124m'\u001b[39m\u001b[38;5;124mS3\u001b[39m\u001b[38;5;124m'\u001b[39m, \u001b[38;5;124m'\u001b[39m\u001b[38;5;124mS4\u001b[39m\u001b[38;5;124m'\u001b[39m]})\n\u001b[0;32m---> 39\u001b[0m project2 \u001b[38;5;241m=\u001b[39m \u001b[43mload_project\u001b[49m\u001b[43m(\u001b[49m\u001b[43mproject2_json\u001b[49m\u001b[43m)\u001b[49m\n",
      "File \u001b[0;32m~/Dropbox/BlockScience/bdp-python-client/src/tests/../bdp_lib/project.py:60\u001b[0m, in \u001b[0;36mload_project\u001b[0;34m(json)\u001b[0m\n\u001b[1;32m     58\u001b[0m \u001b[38;5;28;01mdef\u001b[39;00m \u001b[38;5;21mload_project\u001b[39m(json: \u001b[38;5;28mdict\u001b[39m):\n\u001b[1;32m     59\u001b[0m     validate(json, schema)\n\u001b[0;32m---> 60\u001b[0m     \u001b[38;5;28;01mreturn\u001b[39;00m \u001b[43mProject\u001b[49m\u001b[43m(\u001b[49m\u001b[43mjson\u001b[49m\u001b[43m)\u001b[49m\n",
      "File \u001b[0;32m~/Dropbox/BlockScience/bdp-python-client/src/tests/../bdp_lib/project.py:23\u001b[0m, in \u001b[0;36mProject.__init__\u001b[0;34m(self, json)\u001b[0m\n\u001b[1;32m     20\u001b[0m \u001b[38;5;28mself\u001b[39m\u001b[38;5;241m.\u001b[39mtoolbox_map \u001b[38;5;241m=\u001b[39m \u001b[38;5;28mself\u001b[39m\u001b[38;5;241m.\u001b[39mtoolbox\u001b[38;5;241m.\u001b[39mtoolbox_map\n\u001b[1;32m     22\u001b[0m \u001b[38;5;66;03m# Load workbench\u001b[39;00m\n\u001b[0;32m---> 23\u001b[0m \u001b[38;5;28mself\u001b[39m\u001b[38;5;241m.\u001b[39mworkbench \u001b[38;5;241m=\u001b[39m \u001b[43mload_workbench\u001b[49m\u001b[43m(\u001b[49m\n\u001b[1;32m     24\u001b[0m \u001b[43m    \u001b[49m\u001b[43mjson\u001b[49m\u001b[43m[\u001b[49m\u001b[38;5;124;43m\"\u001b[39;49m\u001b[38;5;124;43mWorkbench\u001b[39;49m\u001b[38;5;124;43m\"\u001b[39;49m\u001b[43m]\u001b[49m\u001b[43m,\u001b[49m\u001b[43m \u001b[49m\u001b[38;5;28;43mself\u001b[39;49m\u001b[38;5;241;43m.\u001b[39;49m\u001b[43mblocks_map\u001b[49m\u001b[43m,\u001b[49m\u001b[43m \u001b[49m\u001b[38;5;28;43mself\u001b[39;49m\u001b[38;5;241;43m.\u001b[39;49m\u001b[43mspaces_map\u001b[49m\n\u001b[1;32m     25\u001b[0m \u001b[43m\u001b[49m\u001b[43m)\u001b[49m\n\u001b[1;32m     27\u001b[0m \u001b[38;5;28mself\u001b[39m\u001b[38;5;241m.\u001b[39mprocessors \u001b[38;5;241m=\u001b[39m \u001b[38;5;28mself\u001b[39m\u001b[38;5;241m.\u001b[39mworkbench\u001b[38;5;241m.\u001b[39mprocessors\n\u001b[1;32m     28\u001b[0m \u001b[38;5;28mself\u001b[39m\u001b[38;5;241m.\u001b[39mwires \u001b[38;5;241m=\u001b[39m \u001b[38;5;28mself\u001b[39m\u001b[38;5;241m.\u001b[39mworkbench\u001b[38;5;241m.\u001b[39mwires\n",
      "File \u001b[0;32m~/Dropbox/BlockScience/bdp-python-client/src/tests/../bdp_lib/workbench.py:60\u001b[0m, in \u001b[0;36mload_workbench\u001b[0;34m(json, blocks_map, spaces_map)\u001b[0m\n\u001b[1;32m     59\u001b[0m \u001b[38;5;28;01mdef\u001b[39;00m \u001b[38;5;21mload_workbench\u001b[39m(json: \u001b[38;5;28mdict\u001b[39m, blocks_map, spaces_map):\n\u001b[0;32m---> 60\u001b[0m     \u001b[38;5;28;01mreturn\u001b[39;00m \u001b[43mWorkbench\u001b[49m\u001b[43m(\u001b[49m\u001b[43mjson\u001b[49m\u001b[43m,\u001b[49m\u001b[43m \u001b[49m\u001b[43mblocks_map\u001b[49m\u001b[43m,\u001b[49m\u001b[43m \u001b[49m\u001b[43mspaces_map\u001b[49m\u001b[43m)\u001b[49m\n",
      "File \u001b[0;32m~/Dropbox/BlockScience/bdp-python-client/src/tests/../bdp_lib/workbench.py:23\u001b[0m, in \u001b[0;36mWorkbench.__init__\u001b[0;34m(self, json, blocks_map, spaces_map)\u001b[0m\n\u001b[1;32m     20\u001b[0m \u001b[38;5;28mself\u001b[39m\u001b[38;5;241m.\u001b[39mprocessors_map \u001b[38;5;241m=\u001b[39m {processor\u001b[38;5;241m.\u001b[39mid: processor \u001b[38;5;28;01mfor\u001b[39;00m processor \u001b[38;5;129;01min\u001b[39;00m \u001b[38;5;28mself\u001b[39m\u001b[38;5;241m.\u001b[39mprocessors}\n\u001b[1;32m     22\u001b[0m \u001b[38;5;66;03m# Load Wire\u001b[39;00m\n\u001b[0;32m---> 23\u001b[0m \u001b[38;5;28mself\u001b[39m\u001b[38;5;241m.\u001b[39mwires \u001b[38;5;241m=\u001b[39m [\n\u001b[1;32m     24\u001b[0m     load_wire(wire, \u001b[38;5;28mself\u001b[39m\u001b[38;5;241m.\u001b[39mprocessors_map, spaces_map) \u001b[38;5;28;01mfor\u001b[39;00m wire \u001b[38;5;129;01min\u001b[39;00m json[\u001b[38;5;124m\"\u001b[39m\u001b[38;5;124mWires\u001b[39m\u001b[38;5;124m\"\u001b[39m]\n\u001b[1;32m     25\u001b[0m ]\n\u001b[1;32m     26\u001b[0m duplicate_wires \u001b[38;5;241m=\u001b[39m find_duplicates(\u001b[38;5;28mself\u001b[39m\u001b[38;5;241m.\u001b[39mwires)\n\u001b[1;32m     27\u001b[0m \u001b[38;5;28;01massert\u001b[39;00m \u001b[38;5;28mlen\u001b[39m(duplicate_wires) \u001b[38;5;241m==\u001b[39m \u001b[38;5;241m0\u001b[39m, \u001b[38;5;124mf\u001b[39m\u001b[38;5;124m\"\u001b[39m\u001b[38;5;124mDuplicate wire IDs found: \u001b[39m\u001b[38;5;132;01m{\u001b[39;00mduplicate_wires\u001b[38;5;132;01m}\u001b[39;00m\u001b[38;5;124m\"\u001b[39m\n",
      "File \u001b[0;32m~/Dropbox/BlockScience/bdp-python-client/src/tests/../bdp_lib/workbench.py:24\u001b[0m, in \u001b[0;36m<listcomp>\u001b[0;34m(.0)\u001b[0m\n\u001b[1;32m     20\u001b[0m \u001b[38;5;28mself\u001b[39m\u001b[38;5;241m.\u001b[39mprocessors_map \u001b[38;5;241m=\u001b[39m {processor\u001b[38;5;241m.\u001b[39mid: processor \u001b[38;5;28;01mfor\u001b[39;00m processor \u001b[38;5;129;01min\u001b[39;00m \u001b[38;5;28mself\u001b[39m\u001b[38;5;241m.\u001b[39mprocessors}\n\u001b[1;32m     22\u001b[0m \u001b[38;5;66;03m# Load Wire\u001b[39;00m\n\u001b[1;32m     23\u001b[0m \u001b[38;5;28mself\u001b[39m\u001b[38;5;241m.\u001b[39mwires \u001b[38;5;241m=\u001b[39m [\n\u001b[0;32m---> 24\u001b[0m     \u001b[43mload_wire\u001b[49m\u001b[43m(\u001b[49m\u001b[43mwire\u001b[49m\u001b[43m,\u001b[49m\u001b[43m \u001b[49m\u001b[38;5;28;43mself\u001b[39;49m\u001b[38;5;241;43m.\u001b[39;49m\u001b[43mprocessors_map\u001b[49m\u001b[43m,\u001b[49m\u001b[43m \u001b[49m\u001b[43mspaces_map\u001b[49m\u001b[43m)\u001b[49m \u001b[38;5;28;01mfor\u001b[39;00m wire \u001b[38;5;129;01min\u001b[39;00m json[\u001b[38;5;124m\"\u001b[39m\u001b[38;5;124mWires\u001b[39m\u001b[38;5;124m\"\u001b[39m]\n\u001b[1;32m     25\u001b[0m ]\n\u001b[1;32m     26\u001b[0m duplicate_wires \u001b[38;5;241m=\u001b[39m find_duplicates(\u001b[38;5;28mself\u001b[39m\u001b[38;5;241m.\u001b[39mwires)\n\u001b[1;32m     27\u001b[0m \u001b[38;5;28;01massert\u001b[39;00m \u001b[38;5;28mlen\u001b[39m(duplicate_wires) \u001b[38;5;241m==\u001b[39m \u001b[38;5;241m0\u001b[39m, \u001b[38;5;124mf\u001b[39m\u001b[38;5;124m\"\u001b[39m\u001b[38;5;124mDuplicate wire IDs found: \u001b[39m\u001b[38;5;132;01m{\u001b[39;00mduplicate_wires\u001b[38;5;132;01m}\u001b[39;00m\u001b[38;5;124m\"\u001b[39m\n",
      "File \u001b[0;32m~/Dropbox/BlockScience/bdp-python-client/src/tests/../bdp_lib/wire.py:73\u001b[0m, in \u001b[0;36mload_wire\u001b[0;34m(json, blocks_map, spaces_map)\u001b[0m\n\u001b[1;32m     72\u001b[0m \u001b[38;5;28;01mdef\u001b[39;00m \u001b[38;5;21mload_wire\u001b[39m(json, blocks_map, spaces_map):\n\u001b[0;32m---> 73\u001b[0m     \u001b[38;5;28;01mreturn\u001b[39;00m \u001b[43mWire\u001b[49m\u001b[43m(\u001b[49m\u001b[43mjson\u001b[49m\u001b[43m,\u001b[49m\u001b[43m \u001b[49m\u001b[43mblocks_map\u001b[49m\u001b[43m,\u001b[49m\u001b[43m \u001b[49m\u001b[43mspaces_map\u001b[49m\u001b[43m)\u001b[49m\n",
      "File \u001b[0;32m~/Dropbox/BlockScience/bdp-python-client/src/tests/../bdp_lib/wire.py:6\u001b[0m, in \u001b[0;36mWire.__init__\u001b[0;34m(self, json, processors_map, spaces_map)\u001b[0m\n\u001b[1;32m      4\u001b[0m \u001b[38;5;28mself\u001b[39m\u001b[38;5;241m.\u001b[39mid \u001b[38;5;241m=\u001b[39m json[\u001b[38;5;124m\"\u001b[39m\u001b[38;5;124mID\u001b[39m\u001b[38;5;124m\"\u001b[39m]\n\u001b[1;32m      5\u001b[0m \u001b[38;5;28mself\u001b[39m\u001b[38;5;241m.\u001b[39m_load_parent(json[\u001b[38;5;124m\"\u001b[39m\u001b[38;5;124mParent\u001b[39m\u001b[38;5;124m\"\u001b[39m], spaces_map)\n\u001b[0;32m----> 6\u001b[0m \u001b[38;5;28;43mself\u001b[39;49m\u001b[38;5;241;43m.\u001b[39;49m\u001b[43m_load_source\u001b[49m\u001b[43m(\u001b[49m\u001b[43mjson\u001b[49m\u001b[43m[\u001b[49m\u001b[38;5;124;43m\"\u001b[39;49m\u001b[38;5;124;43mSource\u001b[39;49m\u001b[38;5;124;43m\"\u001b[39;49m\u001b[43m]\u001b[49m\u001b[43m,\u001b[49m\u001b[43m \u001b[49m\u001b[43mprocessors_map\u001b[49m\u001b[43m)\u001b[49m\n\u001b[1;32m      7\u001b[0m \u001b[38;5;28mself\u001b[39m\u001b[38;5;241m.\u001b[39m_load_target(json[\u001b[38;5;124m\"\u001b[39m\u001b[38;5;124mTarget\u001b[39m\u001b[38;5;124m\"\u001b[39m], processors_map)\n",
      "File \u001b[0;32m~/Dropbox/BlockScience/bdp-python-client/src/tests/../bdp_lib/wire.py:31\u001b[0m, in \u001b[0;36mWire._load_source\u001b[0;34m(self, source, processors_map)\u001b[0m\n\u001b[1;32m     29\u001b[0m a \u001b[38;5;241m=\u001b[39m processor\u001b[38;5;241m.\u001b[39mterminals[source[\u001b[38;5;124m\"\u001b[39m\u001b[38;5;124mIndex\u001b[39m\u001b[38;5;124m\"\u001b[39m]]\n\u001b[1;32m     30\u001b[0m b \u001b[38;5;241m=\u001b[39m \u001b[38;5;28mself\u001b[39m\u001b[38;5;241m.\u001b[39mparent\n\u001b[0;32m---> 31\u001b[0m \u001b[38;5;28;01massert\u001b[39;00m (\n\u001b[1;32m     32\u001b[0m     a \u001b[38;5;241m==\u001b[39m b\n\u001b[1;32m     33\u001b[0m ), \u001b[38;5;124m\"\u001b[39m\u001b[38;5;124mThe terminal space \u001b[39m\u001b[38;5;132;01m{}\u001b[39;00m\u001b[38;5;124m of processor \u001b[39m\u001b[38;5;132;01m{}\u001b[39;00m\u001b[38;5;124m does not match the wire space \u001b[39m\u001b[38;5;132;01m{}\u001b[39;00m\u001b[38;5;124m for wire \u001b[39m\u001b[38;5;132;01m{}\u001b[39;00m\u001b[38;5;124m\"\u001b[39m\u001b[38;5;241m.\u001b[39mformat(\n\u001b[1;32m     34\u001b[0m     a, processor\u001b[38;5;241m.\u001b[39mname, b, \u001b[38;5;28mself\u001b[39m\u001b[38;5;241m.\u001b[39mid\n\u001b[1;32m     35\u001b[0m )\n\u001b[1;32m     36\u001b[0m \u001b[38;5;28mself\u001b[39m\u001b[38;5;241m.\u001b[39msource \u001b[38;5;241m=\u001b[39m {\u001b[38;5;124m\"\u001b[39m\u001b[38;5;124mProcessor\u001b[39m\u001b[38;5;124m\"\u001b[39m: processor, \u001b[38;5;124m\"\u001b[39m\u001b[38;5;124mIndex\u001b[39m\u001b[38;5;124m\"\u001b[39m: source[\u001b[38;5;124m\"\u001b[39m\u001b[38;5;124mIndex\u001b[39m\u001b[38;5;124m\"\u001b[39m]}\n",
      "\u001b[0;31mAssertionError\u001b[0m: The terminal space < Space ID: S3 Name: C > of processor System 1-CP does not match the wire space < Space ID: S1 Name: A > for wire Sys1-CP-P0"
     ]
    }
   ],
   "source": [
    "from copy import deepcopy\n",
    "project2_json = deepcopy(project_json)\n",
    "\n",
    "project2_json[\"Toolbox\"][\"Blocks\"].append({'Codomain': ['S3', 'S4'],\n",
    " 'Description': 'A lazy loaded composite processor block for System 1',\n",
    " 'Domain': ['S1', 'S2'],\n",
    " 'ID': 'Sys1-CP Block',\n",
    " 'Name': 'System 1-CP Block'})\n",
    "\n",
    "project2_json[\"Workbench\"][\"Wires\"].extend([{'ID': 'Sys1-CP-P0',\n",
    "  'Parent': 'S1',\n",
    "  'Source': {'Index': 0, 'Processor': 'Sys1-CP'},\n",
    "  'Target': {'Index': 0, 'Processor': 'P1'}},\n",
    " {'ID': 'Sys1-CP-P1',\n",
    "  'Parent': 'S2',\n",
    "  'Source': {'Index': 1, 'Processor': 'Sys1-CP'},\n",
    "  'Target': {'Index': 1, 'Processor': 'P3'}},\n",
    " {'ID': 'Sys1-CP-T0',\n",
    "  'Parent': 'S3',\n",
    "  'Source': {'Index': 0, 'Processor': 'P2'},\n",
    "  'Target': {'Index': 0, 'Processor': 'Sys1-CP'}},\n",
    " {'ID': 'Sys1-CP-T1',\n",
    "  'Parent': 'S4',\n",
    "  'Source': {'Index': 0, 'Processor': 'P3'},\n",
    "  'Target': {'Index': 1, 'Processor': 'Sys1-CP'}}])\n",
    "\n",
    "project2_json['Workbench']['Processors'].append({'Description': 'A lazy loaded composite processor block for System 1',\n",
    " 'ID': 'Sys1-CP',\n",
    " 'Name': 'System 1-CP',\n",
    " 'Parent': 'Sys1-CP Block',\n",
    " 'Ports': ['S1', 'S2'],\n",
    " 'Subsystem': {'System ID': 'Sys1',\n",
    "               'Wires': ['Sys1-CP-P0',\n",
    "                         'Sys1-CP-P1',\n",
    "                         'Sys1-CP-T0',\n",
    "                         'Sys1-CP-T1']},\n",
    " 'Terminals': ['S3', 'S4']})\n",
    "\n",
    "project2 = load_project(project2_json)"
   ]
  },
  {
   "cell_type": "code",
   "execution_count": null,
   "metadata": {},
   "outputs": [],
   "source": []
  },
  {
   "cell_type": "code",
   "execution_count": null,
   "metadata": {},
   "outputs": [
    {
     "data": {
      "text/plain": [
       "< Project\n",
       "Toolbox:\n",
       "\n",
       "< Toolbox\n",
       "Blocks: ['Block 1', 'Block 2', 'Block 3']\n",
       "Spaces: ['A', 'B', 'C', 'D', 'E'] >\n",
       "\n",
       "Workbench:\n",
       "\n",
       "<Workbench\n",
       "Processors: ['Processor 1', 'Processor 2', 'Processor 3']\n",
       "Wires: ['W1', 'W2', 'W3']\n",
       "Systems: ['System 1'] > >"
      ]
     },
     "execution_count": 4,
     "metadata": {},
     "output_type": "execute_result"
    }
   ],
   "source": [
    "project"
   ]
  },
  {
   "cell_type": "code",
   "execution_count": null,
   "metadata": {},
   "outputs": [
    {
     "data": {
      "text/plain": [
       "< Toolbox\n",
       "Blocks: ['Block 1', 'Block 2', 'Block 3']\n",
       "Spaces: ['A', 'B', 'C', 'D', 'E'] >"
      ]
     },
     "execution_count": 5,
     "metadata": {},
     "output_type": "execute_result"
    }
   ],
   "source": [
    "project.toolbox"
   ]
  },
  {
   "cell_type": "code",
   "execution_count": null,
   "metadata": {},
   "outputs": [
    {
     "data": {
      "text/plain": [
       "<Workbench\n",
       "Processors: ['Processor 1', 'Processor 2', 'Processor 3']\n",
       "Wires: ['W1', 'W2', 'W3']\n",
       "Systems: ['System 1'] >"
      ]
     },
     "execution_count": 6,
     "metadata": {},
     "output_type": "execute_result"
    }
   ],
   "source": [
    "project.workbench"
   ]
  },
  {
   "cell_type": "code",
   "execution_count": null,
   "metadata": {},
   "outputs": [
    {
     "data": {
      "text/plain": [
       "[< Block ID: B1 Name: Block 1 ['A', 'E']->['E']>,\n",
       " < Block ID: B2 Name: Block 2 ['E']->['C']>,\n",
       " < Block ID: B3 Name: Block 3 ['E', 'B']->['D']>]"
      ]
     },
     "execution_count": 7,
     "metadata": {},
     "output_type": "execute_result"
    }
   ],
   "source": [
    "project.blocks"
   ]
  },
  {
   "cell_type": "code",
   "execution_count": null,
   "metadata": {},
   "outputs": [
    {
     "data": {
      "text/plain": [
       "[< Space ID: S1 Name: A >,\n",
       " < Space ID: S2 Name: B >,\n",
       " < Space ID: S3 Name: C >,\n",
       " < Space ID: S4 Name: D >,\n",
       " < Space ID: S5 Name: E >]"
      ]
     },
     "execution_count": 8,
     "metadata": {},
     "output_type": "execute_result"
    }
   ],
   "source": [
    "project.spaces"
   ]
  },
  {
   "cell_type": "code",
   "execution_count": null,
   "metadata": {},
   "outputs": [
    {
     "data": {
      "text/plain": [
       "[< Processor ID: P1 Name: Processor 1 ['A', 'E']->['E']>,\n",
       " < Processor ID: P2 Name: Processor 2 ['E']->['C']>,\n",
       " < Processor ID: P3 Name: Processor 3 ['E', 'B']->['D']>]"
      ]
     },
     "execution_count": 9,
     "metadata": {},
     "output_type": "execute_result"
    }
   ],
   "source": [
    "project.processors"
   ]
  },
  {
   "cell_type": "code",
   "execution_count": null,
   "metadata": {},
   "outputs": [
    {
     "data": {
      "text/plain": [
       "[< Wire ID: W1 Space: E Source: (Processor 1, 0) Target: (Processor 2, 0) >,\n",
       " < Wire ID: W2 Space: E Source: (Processor 1, 0) Target: (Processor 3, 0) >,\n",
       " < Wire ID: W3 Space: E Source: (Processor 1, 0) Target: (Processor 1, 1) >]"
      ]
     },
     "execution_count": 10,
     "metadata": {},
     "output_type": "execute_result"
    }
   ],
   "source": [
    "project.wires"
   ]
  },
  {
   "cell_type": "code",
   "execution_count": null,
   "metadata": {},
   "outputs": [
    {
     "data": {
      "text/plain": [
       "[< System Name: System 1 ID: Sys1 Processors: ['Processor 1', 'Processor 2', 'Processor 3'] Wires: ['W1', 'W2', 'W3'] >]"
      ]
     },
     "execution_count": 11,
     "metadata": {},
     "output_type": "execute_result"
    }
   ],
   "source": [
    "project.systems"
   ]
  },
  {
   "cell_type": "code",
   "execution_count": null,
   "metadata": {},
   "outputs": [],
   "source": []
  }
 ],
 "metadata": {
  "kernelspec": {
   "display_name": "MSML",
   "language": "python",
   "name": "python3"
  },
  "language_info": {
   "codemirror_mode": {
    "name": "ipython",
    "version": 3
   },
   "file_extension": ".py",
   "mimetype": "text/x-python",
   "name": "python",
   "nbconvert_exporter": "python",
   "pygments_lexer": "ipython3",
   "version": "3.9.19"
  }
 },
 "nbformat": 4,
 "nbformat_minor": 2
}
